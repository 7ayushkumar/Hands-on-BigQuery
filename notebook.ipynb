{
  "cells": [
    {
      "metadata": {
        "_cell_guid": "b1076dfc-b9ad-4769-8c92-a6c4dae69d19",
        "_uuid": "8f2839f25d086af736a60e9eeb907d3b93b6e0e5",
        "collapsed": true,
        "trusted": true
      },
      "cell_type": "code",
      "source": "# importing big query helper package\nimport bq_helper",
      "execution_count": 2,
      "outputs": []
    },
    {
      "metadata": {
        "_cell_guid": "79c7e3d0-c299-4dcb-8224-4455121ee9b0",
        "_uuid": "d629ff2d2480ee46fbb7e2d37f6b5fab8052498a",
        "collapsed": true,
        "trusted": true
      },
      "cell_type": "code",
      "source": "## BigQuery Table:    bigquery-public-data.bitcoin_blockchain.blocks\n##The active_project argument takes the BigQuery info, which is currently \"bigquery-public-data\" \n##for all the BigQuery datasets on Kaggle.\n#\"blocks\" means table name in the \"bitcoin_blockchain\" dataset\n# create a helper object for our bigquery dataset\nbitcoin_blockchain = bq_helper.BigQueryHelper(active_project= \"bigquery-public-data\", \n                                       dataset_name = \"bitcoin_blockchain\")",
      "execution_count": 5,
      "outputs": []
    },
    {
      "metadata": {
        "trusted": true,
        "_uuid": "957e57c14523e6df859d8f849354d527ee8352ac"
      },
      "cell_type": "code",
      "source": "# print a list of all the tables in the bitcoin_blockchain dataset\nbitcoin_blockchain.list_tables()",
      "execution_count": 7,
      "outputs": [
        {
          "data": {
            "text/plain": "['blocks', 'transactions']"
          },
          "execution_count": 7,
          "metadata": {},
          "output_type": "execute_result"
        }
      ]
    },
    {
      "metadata": {
        "trusted": true,
        "_uuid": "7f2b2741bd5e5c4b68baf8dbc55e2dad27b876b5"
      },
      "cell_type": "code",
      "source": "bitcoin_blockchain.head('blocks')",
      "execution_count": 8,
      "outputs": [
        {
          "data": {
            "text/html": "<div>\n<style scoped>\n    .dataframe tbody tr th:only-of-type {\n        vertical-align: middle;\n    }\n\n    .dataframe tbody tr th {\n        vertical-align: top;\n    }\n\n    .dataframe thead th {\n        text-align: right;\n    }\n</style>\n<table border=\"1\" class=\"dataframe\">\n  <thead>\n    <tr style=\"text-align: right;\">\n      <th></th>\n      <th>block_id</th>\n      <th>previous_block</th>\n      <th>merkle_root</th>\n      <th>timestamp</th>\n      <th>difficultyTarget</th>\n      <th>nonce</th>\n      <th>version</th>\n      <th>work_terahash</th>\n      <th>work_error</th>\n      <th>transactions</th>\n      <th>row_number</th>\n    </tr>\n  </thead>\n  <tbody>\n    <tr>\n      <th>0</th>\n      <td>0000000000000000000473e05e6c97212ee3dd6f018ffb...</td>\n      <td>0000000000000000000a6b45eef86a0d5462d5bc3e4022...</td>\n      <td>a649df5652d8288d6e3b36740ca58835ecda27b1260420...</td>\n      <td>1519923676000</td>\n      <td>392009692</td>\n      <td>1680242517</td>\n      <td>536870912</td>\n      <td>129168124477</td>\n      <td>None</td>\n      <td>[{'transaction_id': 'c87a547ead29bc4dd76be7d6a...</td>\n      <td>1</td>\n    </tr>\n    <tr>\n      <th>1</th>\n      <td>00000000000000000023362006c36ca627a94941ad40f5...</td>\n      <td>0000000000000000004fa3d61bace172afb10e8ed9f562...</td>\n      <td>885d22ab3815d4be6b70e3f7587d3ea88004f520ebfc2f...</td>\n      <td>1521482506000</td>\n      <td>391203401</td>\n      <td>2141955435</td>\n      <td>536870912</td>\n      <td>148717332558</td>\n      <td>None</td>\n      <td>[{'transaction_id': 'ad9fde79a47d188607422b925...</td>\n      <td>1</td>\n    </tr>\n    <tr>\n      <th>2</th>\n      <td>000000000000000007d803afe7f053485a2d9252c675f3...</td>\n      <td>00000000000000000c3c47fdb891b411c322cf2d16ec55...</td>\n      <td>a12e66ab05d3e345822229dc0d776597ddf45ad91fea3e...</td>\n      <td>1428032908000</td>\n      <td>404195570</td>\n      <td>3976852114</td>\n      <td>2</td>\n      <td>2006534096</td>\n      <td>None</td>\n      <td>[{'transaction_id': 'a59f8141d2965c835c8561725...</td>\n      <td>1</td>\n    </tr>\n    <tr>\n      <th>3</th>\n      <td>0000000000000000020c8fbc35b4552df6ce70fd493f35...</td>\n      <td>000000000000000001a8c25aa07fa2aa375db978d176eb...</td>\n      <td>cc4890229ed95b389fe1519f1cfb280eb2d48925b3f493...</td>\n      <td>1483034446000</td>\n      <td>402879999</td>\n      <td>1969377622</td>\n      <td>536870914</td>\n      <td>13644821101</td>\n      <td>None</td>\n      <td>[{'transaction_id': 'f9da5b1473b2708524e1ddaeb...</td>\n      <td>1</td>\n    </tr>\n    <tr>\n      <th>4</th>\n      <td>0000000000000000f7e817cbb78d3ecfbb11c754e24fc3...</td>\n      <td>000000000000000062a94993e7a4f0e82ded01db8835ba...</td>\n      <td>452a94876e0d9ec872bbf524ee0d61aa65390a5ab592e6...</td>\n      <td>1392055090000</td>\n      <td>419537774</td>\n      <td>108985213</td>\n      <td>2</td>\n      <td>112590181</td>\n      <td>None</td>\n      <td>[{'transaction_id': 'ee55c6bd165aec8db4d2a450a...</td>\n      <td>1</td>\n    </tr>\n  </tbody>\n</table>\n</div>",
            "text/plain": "                                            block_id  \\\n0  0000000000000000000473e05e6c97212ee3dd6f018ffb...   \n1  00000000000000000023362006c36ca627a94941ad40f5...   \n2  000000000000000007d803afe7f053485a2d9252c675f3...   \n3  0000000000000000020c8fbc35b4552df6ce70fd493f35...   \n4  0000000000000000f7e817cbb78d3ecfbb11c754e24fc3...   \n\n                                      previous_block  \\\n0  0000000000000000000a6b45eef86a0d5462d5bc3e4022...   \n1  0000000000000000004fa3d61bace172afb10e8ed9f562...   \n2  00000000000000000c3c47fdb891b411c322cf2d16ec55...   \n3  000000000000000001a8c25aa07fa2aa375db978d176eb...   \n4  000000000000000062a94993e7a4f0e82ded01db8835ba...   \n\n                                         merkle_root      timestamp  \\\n0  a649df5652d8288d6e3b36740ca58835ecda27b1260420...  1519923676000   \n1  885d22ab3815d4be6b70e3f7587d3ea88004f520ebfc2f...  1521482506000   \n2  a12e66ab05d3e345822229dc0d776597ddf45ad91fea3e...  1428032908000   \n3  cc4890229ed95b389fe1519f1cfb280eb2d48925b3f493...  1483034446000   \n4  452a94876e0d9ec872bbf524ee0d61aa65390a5ab592e6...  1392055090000   \n\n   difficultyTarget       nonce    version  work_terahash work_error  \\\n0         392009692  1680242517  536870912   129168124477       None   \n1         391203401  2141955435  536870912   148717332558       None   \n2         404195570  3976852114          2     2006534096       None   \n3         402879999  1969377622  536870914    13644821101       None   \n4         419537774   108985213          2      112590181       None   \n\n                                        transactions  row_number  \n0  [{'transaction_id': 'c87a547ead29bc4dd76be7d6a...           1  \n1  [{'transaction_id': 'ad9fde79a47d188607422b925...           1  \n2  [{'transaction_id': 'a59f8141d2965c835c8561725...           1  \n3  [{'transaction_id': 'f9da5b1473b2708524e1ddaeb...           1  \n4  [{'transaction_id': 'ee55c6bd165aec8db4d2a450a...           1  "
          },
          "execution_count": 8,
          "metadata": {},
          "output_type": "execute_result"
        }
      ]
    },
    {
      "metadata": {
        "trusted": true,
        "_uuid": "10085ee3b93934d4465208f426141f1944646697"
      },
      "cell_type": "code",
      "source": "# preview the first ten entries in the block_id column of the blocks table\nbitcoin_blockchain.head(\"blocks\", selected_columns=\"block_id\", num_rows=10)",
      "execution_count": 9,
      "outputs": [
        {
          "data": {
            "text/html": "<div>\n<style scoped>\n    .dataframe tbody tr th:only-of-type {\n        vertical-align: middle;\n    }\n\n    .dataframe tbody tr th {\n        vertical-align: top;\n    }\n\n    .dataframe thead th {\n        text-align: right;\n    }\n</style>\n<table border=\"1\" class=\"dataframe\">\n  <thead>\n    <tr style=\"text-align: right;\">\n      <th></th>\n      <th>block_id</th>\n    </tr>\n  </thead>\n  <tbody>\n    <tr>\n      <th>0</th>\n      <td>0000000000000000000473e05e6c97212ee3dd6f018ffb...</td>\n    </tr>\n    <tr>\n      <th>1</th>\n      <td>00000000000000000023362006c36ca627a94941ad40f5...</td>\n    </tr>\n    <tr>\n      <th>2</th>\n      <td>000000000000000007d803afe7f053485a2d9252c675f3...</td>\n    </tr>\n    <tr>\n      <th>3</th>\n      <td>0000000000000000020c8fbc35b4552df6ce70fd493f35...</td>\n    </tr>\n    <tr>\n      <th>4</th>\n      <td>0000000000000000f7e817cbb78d3ecfbb11c754e24fc3...</td>\n    </tr>\n    <tr>\n      <th>5</th>\n      <td>0000000000000009779cbf1514f298d8e4b5f766fd63b4...</td>\n    </tr>\n    <tr>\n      <th>6</th>\n      <td>000000000000000001892713091beda8afb7af749ad0dd...</td>\n    </tr>\n    <tr>\n      <th>7</th>\n      <td>00000000000003ac7fb4207d8951cc011541798a70da88...</td>\n    </tr>\n    <tr>\n      <th>8</th>\n      <td>000000000000000001b810f2a09d9b2b89c73e57066b89...</td>\n    </tr>\n    <tr>\n      <th>9</th>\n      <td>000000000000000000a514859d93eead7381efe13c8461...</td>\n    </tr>\n  </tbody>\n</table>\n</div>",
            "text/plain": "                                            block_id\n0  0000000000000000000473e05e6c97212ee3dd6f018ffb...\n1  00000000000000000023362006c36ca627a94941ad40f5...\n2  000000000000000007d803afe7f053485a2d9252c675f3...\n3  0000000000000000020c8fbc35b4552df6ce70fd493f35...\n4  0000000000000000f7e817cbb78d3ecfbb11c754e24fc3...\n5  0000000000000009779cbf1514f298d8e4b5f766fd63b4...\n6  000000000000000001892713091beda8afb7af749ad0dd...\n7  00000000000003ac7fb4207d8951cc011541798a70da88...\n8  000000000000000001b810f2a09d9b2b89c73e57066b89...\n9  000000000000000000a514859d93eead7381efe13c8461..."
          },
          "execution_count": 9,
          "metadata": {},
          "output_type": "execute_result"
        }
      ]
    },
    {
      "metadata": {
        "trusted": true,
        "_uuid": "c4051cdb26d6b7466dcbc25d7a8583ec55b0dc2f"
      },
      "cell_type": "code",
      "source": "# this query looks in the blocks table in the bitcoin_blockchain\n# dataset, then gets the timestamp column from every row where \n# the version column has \"2\" in it.\nquery = \"\"\"SELECT timestamp\n            FROM `bigquery-public-data.bitcoin_blockchain.blocks`\n            WHERE version = 2 \"\"\"\n\n# check how big this query will be (always returned in gigabytes)\nbitcoin_blockchain.estimate_query_size(query)",
      "execution_count": 11,
      "outputs": [
        {
          "data": {
            "text/plain": "0.00767381489276886"
          },
          "execution_count": 11,
          "metadata": {},
          "output_type": "execute_result"
        }
      ]
    },
    {
      "metadata": {
        "collapsed": true,
        "trusted": true,
        "_uuid": "7c5da7d257dc25910073c2e2225c3dfe2544efaa"
      },
      "cell_type": "code",
      "source": "##BigQueryHelper.query_to_pandas(query): This method takes a query and returns a Pandas dataframe.\n##BigQueryHelper.query_to_pandas_safe(query, max_gb_scanned=1): This method takes a query and returns a \n##Pandas dataframe only if the size of the query is less than the upperSizeLimit (1 gigabyte by default).",
      "execution_count": null,
      "outputs": []
    },
    {
      "metadata": {
        "collapsed": true,
        "trusted": true,
        "_uuid": "ca88ca82eba3ae71bd580de709b6774415b14c5e"
      },
      "cell_type": "code",
      "source": "ts = bitcoin_blockchain.query_to_pandas_safe(query, max_gb_scanned=0.1)",
      "execution_count": 15,
      "outputs": []
    },
    {
      "metadata": {
        "trusted": true,
        "_uuid": "d00d03fe716587271a6824302f22c070a36d0685"
      },
      "cell_type": "code",
      "source": "#Calculate min of timestamp\nts.timestamp.min()",
      "execution_count": 18,
      "outputs": [
        {
          "data": {
            "text/plain": "1342563592000"
          },
          "execution_count": 18,
          "metadata": {},
          "output_type": "execute_result"
        }
      ]
    },
    {
      "metadata": {
        "collapsed": true,
        "trusted": true,
        "_uuid": "5beecad5dc127174feb0113b6a9d7f64d510dc96"
      },
      "cell_type": "code",
      "source": "# save our dataframe as a .csv \nts.to_csv(\"ts.csv\")",
      "execution_count": 20,
      "outputs": []
    },
    {
      "metadata": {
        "collapsed": true,
        "trusted": true,
        "_uuid": "60f58636770c762892688823bb465ddc798c01ea"
      },
      "cell_type": "code",
      "source": "## Some tips using BigQuery\n# 1. Avoid using * since it gives everything\n# 2. Avoid using LIMIT; for e.g; select a from t limit 10;\n## here limit can give you 10 results but it will scan through all rows which can be 1000s or 10000000s(huge memory consumption)",
      "execution_count": null,
      "outputs": []
    },
    {
      "metadata": {
        "collapsed": true,
        "trusted": true,
        "_uuid": "8047c86dcf7af5c489ca4b344b1e4f04771c326f"
      },
      "cell_type": "code",
      "source": "",
      "execution_count": null,
      "outputs": []
    },
    {
      "metadata": {
        "collapsed": true,
        "trusted": true,
        "_uuid": "acc47c8a78b420645c4cd810355eb158655e02df"
      },
      "cell_type": "code",
      "source": "",
      "execution_count": 19,
      "outputs": []
    },
    {
      "metadata": {
        "collapsed": true,
        "trusted": true,
        "_uuid": "fd26fe801bac76a3d60ee4a4482ba022e4a090e4"
      },
      "cell_type": "code",
      "source": "",
      "execution_count": null,
      "outputs": []
    },
    {
      "metadata": {
        "collapsed": true,
        "trusted": true,
        "_uuid": "89eeb6395ead5ce72e478195fbc5a276597643ce"
      },
      "cell_type": "code",
      "source": "",
      "execution_count": null,
      "outputs": []
    },
    {
      "metadata": {
        "collapsed": true,
        "trusted": true,
        "_uuid": "f19b19db884ff9eeedaecafbdf575222ef91ed37"
      },
      "cell_type": "code",
      "source": "",
      "execution_count": null,
      "outputs": []
    },
    {
      "metadata": {
        "collapsed": true,
        "trusted": true,
        "_uuid": "b7132e9b73aeaf738ee6e294f3344a0df210fde1"
      },
      "cell_type": "code",
      "source": "",
      "execution_count": null,
      "outputs": []
    },
    {
      "metadata": {
        "collapsed": true,
        "trusted": true,
        "_uuid": "b14710ac654a50b42160b55f65544b999a998966"
      },
      "cell_type": "code",
      "source": "",
      "execution_count": null,
      "outputs": []
    },
    {
      "metadata": {
        "collapsed": true,
        "trusted": true,
        "_uuid": "d47ee284d6e85df2e5f782b27397190e44d0c99f"
      },
      "cell_type": "code",
      "source": "",
      "execution_count": null,
      "outputs": []
    },
    {
      "metadata": {
        "collapsed": true,
        "trusted": true,
        "_uuid": "b63d200c958eed1f7bcd33a325babec39a696f11"
      },
      "cell_type": "code",
      "source": "",
      "execution_count": null,
      "outputs": []
    },
    {
      "metadata": {
        "collapsed": true,
        "trusted": true,
        "_uuid": "f5fdfe7353bc35c57562ebc0d0ccf552417bcbbd"
      },
      "cell_type": "code",
      "source": "",
      "execution_count": null,
      "outputs": []
    },
    {
      "metadata": {
        "collapsed": true,
        "trusted": true,
        "_uuid": "91848e72bb28e4caa5c84e529513f1ca231a8b22"
      },
      "cell_type": "code",
      "source": "",
      "execution_count": null,
      "outputs": []
    },
    {
      "metadata": {
        "collapsed": true,
        "trusted": true,
        "_uuid": "cd454b7b4a06017e7e59548083f6d2609af46b5a"
      },
      "cell_type": "code",
      "source": "",
      "execution_count": null,
      "outputs": []
    },
    {
      "metadata": {
        "collapsed": true,
        "trusted": true,
        "_uuid": "c6a9fbf7d812c6a9f8361fefdcf7f88b8a8bf40a"
      },
      "cell_type": "code",
      "source": "",
      "execution_count": null,
      "outputs": []
    }
  ],
  "metadata": {
    "kernelspec": {
      "display_name": "Python 3",
      "language": "python",
      "name": "python3"
    },
    "language_info": {
      "codemirror_mode": {
        "name": "ipython",
        "version": 3
      },
      "file_extension": ".py",
      "mimetype": "text/x-python",
      "name": "python",
      "nbconvert_exporter": "python",
      "pygments_lexer": "ipython3",
      "version": "3.6.4"
    }
  },
  "nbformat": 4,
  "nbformat_minor": 1
}